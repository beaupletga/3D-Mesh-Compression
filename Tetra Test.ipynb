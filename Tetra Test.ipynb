{
 "cells": [
  {
   "cell_type": "code",
   "execution_count": 1,
   "metadata": {},
   "outputs": [],
   "source": [
    "import numpy as np\n",
    "import re\n",
    "import matplotlib.pyplot as plt\n",
    "import collections"
   ]
  },
  {
   "cell_type": "code",
   "execution_count": 2,
   "metadata": {},
   "outputs": [],
   "source": [
    "nodes=open(\"nodes.txt\")\n",
    "nodes_list=[]\n",
    "for i in nodes.readlines():\n",
    "    tmp=re.split(r'\\s+',i)\n",
    "    nodes_list+=[[tmp[1],tmp[2],tmp[3]]]\n",
    "    \n",
    "nodes=open(\"tetra.txt\")\n",
    "tetra_list=[]\n",
    "for i in nodes.readlines():\n",
    "    tmp=re.split(r'\\s+',i)\n",
    "    tetra_list+=[[tmp[1],tmp[2],tmp[3],tmp[4]]]    "
   ]
  },
  {
   "cell_type": "code",
   "execution_count": 3,
   "metadata": {},
   "outputs": [
    {
     "name": "stdout",
     "output_type": "stream",
     "text": [
      "Number nodes : 224\n",
      "Number tetra : 798\n"
     ]
    }
   ],
   "source": [
    "nodes=np.array(nodes_list).astype(\"float\")\n",
    "tetra=np.array(tetra_list).astype(\"float\")\n",
    "print(\"Number nodes :\",len(nodes))\n",
    "print(\"Number tetra :\",len(tetra))"
   ]
  },
  {
   "cell_type": "code",
   "execution_count": 5,
   "metadata": {},
   "outputs": [
    {
     "name": "stdout",
     "output_type": "stream",
     "text": [
      "Number edges : 1163\n"
     ]
    }
   ],
   "source": [
    "# number of edges\n",
    "edge_list=set()\n",
    "for i in tetra:\n",
    "    edge_list.add(tuple(sorted((i[0],i[1]))))\n",
    "    edge_list.add(tuple(sorted((i[0],i[2]))))\n",
    "    edge_list.add(tuple(sorted((i[0],i[3]))))\n",
    "    edge_list.add(tuple(sorted((i[1],i[2]))))\n",
    "    edge_list.add(tuple(sorted((i[1],i[3]))))\n",
    "    edge_list.add(tuple(sorted((i[2],i[3]))))\n",
    "print(\"Number edges :\",np.sum([value for key,value in dict(collections.Counter(edge_list)).items()]))"
   ]
  },
  {
   "cell_type": "code",
   "execution_count": 19,
   "metadata": {},
   "outputs": [
    {
     "data": {
      "text/plain": [
       "{1, 2, 3}"
      ]
     },
     "execution_count": 19,
     "metadata": {},
     "output_type": "execute_result"
    }
   ],
   "source": [
    "a=set([1])\n",
    "a.union([1,2,3])"
   ]
  },
  {
   "cell_type": "code",
   "execution_count": 28,
   "metadata": {},
   "outputs": [
    {
     "data": {
      "text/plain": [
       "10.768518518518519"
      ]
     },
     "execution_count": 28,
     "metadata": {},
     "output_type": "execute_result"
    }
   ],
   "source": [
    "tmp=[[1,2,3],[0,2,3],[0,1,3],[0,1,2]]\n",
    "neigbours={}\n",
    "for i in tetra:\n",
    "    for ind,j in enumerate(i):\n",
    "        if j not in neigbours:\n",
    "            neigbours[j]=set(i[tmp[ind]].tolist())\n",
    "        else:\n",
    "            neigbours[j]=neigbours[j].union(set(i[tmp[ind]].tolist()))\n",
    "\n",
    "np.mean([len(val) for key,val in neigbours.items()])"
   ]
  },
  {
   "cell_type": "code",
   "execution_count": 6,
   "metadata": {},
   "outputs": [
    {
     "name": "stdout",
     "output_type": "stream",
     "text": [
      "Average Degree : 14.223214285714286\n"
     ]
    },
    {
     "data": {
      "image/png": "[encoded data removed]",
      "text/plain": [
       "<Figure size 432x288 with 1 Axes>"
      ]
     },
     "metadata": {
      "needs_background": "light"
     },
     "output_type": "display_data"
    }
   ],
   "source": [
    "# average degree\n",
    "print(\"Average Degree :\",np.mean([len(tetra[tetra==i]) for i in range(len(nodes))]))\n",
    "plt.hist([len(tetra[tetra==i]) for i in range(len(nodes))])\n",
    "plt.show()"
   ]
  },
  {
   "cell_type": "code",
   "execution_count": 7,
   "metadata": {},
   "outputs": [
    {
     "name": "stdout",
     "output_type": "stream",
     "text": [
      "Number of tetra per edge : 4.116938950988822\n"
     ]
    },
    {
     "data": {
      "image/png": "[encoded data removed]",
      "text/plain": [
       "<Figure size 432x288 with 1 Axes>"
      ]
     },
     "metadata": {
      "needs_background": "light"
     },
     "output_type": "display_data"
    }
   ],
   "source": [
    "# number of tetra per edge\n",
    "edge_list=[]\n",
    "for i in tetra:\n",
    "    edge_list.append(tuple(sorted((i[0],i[1]))))\n",
    "    edge_list.append(tuple(sorted((i[0],i[2]))))\n",
    "    edge_list.append(tuple(sorted((i[0],i[3]))))\n",
    "    edge_list.append(tuple(sorted((i[1],i[2]))))\n",
    "    edge_list.append(tuple(sorted((i[1],i[3]))))\n",
    "    edge_list.append(tuple(sorted((i[2],i[3]))))\n",
    "print(\"Number of tetra per edge :\",np.mean([value for key,value in dict(collections.Counter(edge_list)).items()]))\n",
    "plt.hist([value for key,value in dict(collections.Counter(edge_list)).items()])\n",
    "plt.show()"
   ]
  },
  {
   "cell_type": "code",
   "execution_count": 8,
   "metadata": {},
   "outputs": [
    {
     "name": "stdout",
     "output_type": "stream",
     "text": [
      "Number of faces per tetra : 3192\n"
     ]
    },
    {
     "data": {
      "image/png": "[encoded data removed]",
      "text/plain": [
       "<Figure size 432x288 with 1 Axes>"
      ]
     },
     "metadata": {
      "needs_background": "light"
     },
     "output_type": "display_data"
    }
   ],
   "source": [
    "# number of faces per tetra\n",
    "face_list=[]\n",
    "for i in tetra:\n",
    "    face_list.append(tuple(sorted((i[0],i[1],i[2]))))\n",
    "    face_list.append(tuple(sorted((i[0],i[2],i[3]))))\n",
    "    face_list.append(tuple(sorted((i[1],i[2],i[3]))))\n",
    "    face_list.append(tuple(sorted((i[0],i[1],i[3]))))\n",
    "print(\"Number of faces per tetra :\",np.sum([value for key,value in dict(collections.Counter(face_list)).items()]))\n",
    "plt.hist([value for key,value in dict(collections.Counter(face_list)).items()])\n",
    "plt.show()"
   ]
  }
 ],
 "metadata": {
  "kernelspec": {
   "display_name": "Python 3",
   "language": "python",
   "name": "python3"
  },
  "language_info": {
   "codemirror_mode": {
    "name": "ipython",
    "version": 3
   },
   "file_extension": ".py",
   "mimetype": "text/x-python",
   "name": "python",
   "nbconvert_exporter": "python",
   "pygments_lexer": "ipython3",
   "version": "3.5.2"
  }
 },
 "nbformat": 4,
 "nbformat_minor": 2
}
