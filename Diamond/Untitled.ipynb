{
 "cells": [
  {
   "cell_type": "code",
   "execution_count": 1,
   "metadata": {},
   "outputs": [],
   "source": [
    "import pandas as pd\n",
    "import numpy as np\n",
    "import matplotlib.pyplot as plt\n",
    "from mpl_toolkits.mplot3d import Axes3D"
   ]
  },
  {
   "cell_type": "code",
   "execution_count": 90,
   "metadata": {},
   "outputs": [],
   "source": [
    "file= open(\"delaunay3D_sphere870.tet\")\n",
    "faces_list=[]\n",
    "lala=0\n",
    "for line in file:\n",
    "    if len(line.split(\" \"))==5:\n",
    "#         print()\n",
    "        lala+=1\n",
    "        tetra=list(map(int, line.split(' ')))[1:]\n",
    "        faces_list.append([tetra[0],tetra[1],tetra[2]])\n",
    "        faces_list.append([tetra[0],tetra[2],tetra[3]])\n",
    "        faces_list.append([tetra[1],tetra[2],tetra[3]])\n",
    "        faces_list.append([tetra[0],tetra[1],tetra[3]])"
   ]
  },
  {
   "cell_type": "code",
   "execution_count": 91,
   "metadata": {},
   "outputs": [],
   "source": [
    "for i in range(len(faces_list)):\n",
    "    faces_list[i]=sorted(faces_list[i])\n",
    "    faces_list[i]=tuple(faces_list[i])"
   ]
  },
  {
   "cell_type": "code",
   "execution_count": 92,
   "metadata": {},
   "outputs": [],
   "source": [
    "dictionary={}\n",
    "for i in faces_list:\n",
    "    if i in dictionary:\n",
    "        dictionary[i]+=1\n",
    "    else:\n",
    "        dictionary[i]=1"
   ]
  },
  {
   "cell_type": "code",
   "execution_count": 93,
   "metadata": {},
   "outputs": [
    {
     "name": "stdout",
     "output_type": "stream",
     "text": [
      "0.002152852529601722 1.9989235737351991\n"
     ]
    }
   ],
   "source": [
    "count=0\n",
    "count2=0\n",
    "for key,value in dictionary.items():\n",
    "    if value==1:\n",
    "        count+=1\n",
    "    elif value==2:\n",
    "        count2+=1\n",
    "        \n",
    "print(count/lala,count2/lala)"
   ]
  },
  {
   "cell_type": "code",
   "execution_count": 45,
   "metadata": {},
   "outputs": [
    {
     "data": {
      "text/plain": [
       "0.783196"
      ]
     },
     "execution_count": 45,
     "metadata": {},
     "output_type": "execute_result"
    }
   ],
   "source": [
    "array=pd.read_csv(\"scores.csv\").values\n",
    "np.max(array[:,3])"
   ]
  },
  {
   "cell_type": "code",
   "execution_count": 47,
   "metadata": {},
   "outputs": [
    {
     "data": {
      "text/plain": [
       "<mpl_toolkits.mplot3d.art3d.Path3DCollection at 0x7fd7f4eeba90>"
      ]
     },
     "execution_count": 47,
     "metadata": {},
     "output_type": "execute_result"
    }
   ],
   "source": [
    "array=pd.read_csv(\"visualize.csv\").values\n",
    "%matplotlib qt\n",
    "fig = plt.figure()\n",
    "ax = Axes3D(fig)\n",
    "# ax.scatter(sub_array[:,0],sub_array[:,1],sub_array[:,2], c=density,marker=\".\")\n",
    "ax.scatter(array[:,0],array[:,1],array[:,2],marker=\".\")"
   ]
  },
  {
   "cell_type": "code",
   "execution_count": 5,
   "metadata": {},
   "outputs": [],
   "source": [
    "array=pd.read_csv(\"visualize.csv\").values\n",
    "sub_array=array[array[:,3]==0,:]\n",
    "# sub_array=sub_array[sub_array[:,4]==1,:]"
   ]
  },
  {
   "cell_type": "code",
   "execution_count": 6,
   "metadata": {},
   "outputs": [],
   "source": [
    "from scipy.stats import gaussian_kde\n",
    "xyz = np.vstack([sub_array[:,0],sub_array[:,1],sub_array[:,2]])\n",
    "kde = gaussian_kde(xyz)\n",
    "density = kde(xyz)\n",
    "# z = gaussian_kde(sub_array[:2])"
   ]
  },
  {
   "cell_type": "code",
   "execution_count": 49,
   "metadata": {},
   "outputs": [],
   "source": [
    "new_density=before_density[array[:,3]==0]-density"
   ]
  },
  {
   "cell_type": "code",
   "execution_count": 42,
   "metadata": {},
   "outputs": [
    {
     "data": {
      "text/plain": [
       "<mpl_toolkits.mplot3d.art3d.Path3DCollection at 0x7fd7f7903198>"
      ]
     },
     "execution_count": 42,
     "metadata": {},
     "output_type": "execute_result"
    }
   ],
   "source": [
    "%matplotlib qt\n",
    "fig = plt.figure()\n",
    "ax = Axes3D(fig)\n",
    "# ax.scatter(sub_array[:,0],sub_array[:,1],sub_array[:,2], c=density,marker=\".\")\n",
    "ax.scatter(array[:,0],array[:,1],array[:,2],c=array[:,3],marker=\".\")"
   ]
  },
  {
   "cell_type": "code",
   "execution_count": 104,
   "metadata": {},
   "outputs": [],
   "source": [
    "file = open(\"hand.tet\", \"r\") \n",
    "vertices=[]\n",
    "faces=[]\n",
    "voxels=[]\n",
    "for line in file: \n",
    "    if(len(line.split(\" \"))==4):\n",
    "        vertices.append(line.split(' '))\n",
    "    elif(len(line.split(\" \"))==6):\n",
    "        voxels.append(line.split(' '))\n",
    "file.close()"
   ]
  },
  {
   "cell_type": "code",
   "execution_count": 105,
   "metadata": {},
   "outputs": [],
   "source": [
    "vertices=[list(map(float, i[:3])) for i in vertices]\n",
    "voxels=[list(map(int, i[1:5])) for i in voxels]\n",
    "for voxel in voxels:\n",
    "    a=[voxel[0],voxel[1],voxel[2]]\n",
    "    b=[voxel[0],voxel[2],voxel[3]]\n",
    "    c=[voxel[0],voxel[2],voxel[3]]\n",
    "    d=[voxel[1],voxel[2],voxel[3]]\n",
    "    faces.append(a)\n",
    "    faces.append(b)\n",
    "    faces.append(c)\n",
    "    faces.append(d)\n",
    "    \n",
    "vertices=np.array(vertices)\n",
    "faces=np.array(faces)\n",
    "voxels=np.array(voxels)"
   ]
  }
 ],
 "metadata": {
  "kernelspec": {
   "display_name": "Python 3",
   "language": "python",
   "name": "python3"
  },
  "language_info": {
   "codemirror_mode": {
    "name": "ipython",
    "version": 3
   },
   "file_extension": ".py",
   "mimetype": "text/x-python",
   "name": "python",
   "nbconvert_exporter": "python",
   "pygments_lexer": "ipython3",
   "version": "3.5.2"
  }
 },
 "nbformat": 4,
 "nbformat_minor": 2
}
